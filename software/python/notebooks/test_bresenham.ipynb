{
 "cells": [
  {
   "cell_type": "code",
   "execution_count": null,
   "id": "37ec4ce5",
   "metadata": {},
   "outputs": [],
   "source": [
    "'''\n",
    "    Notebook to extend the bresenham algorithm to draw lines with a given thickness as efficient as possible.\n",
    "'''\n",
    "import numpy as np\n",
    "import matplotlib.pyplot as plt"
   ]
  },
  {
   "cell_type": "code",
   "execution_count": null,
   "id": "d0f54193",
   "metadata": {},
   "outputs": [],
   "source": [
    "def bresenham_line(x0, y0, x1, y1, bitmap):\n",
    "    dx =  abs(x1 - x0)\n",
    "    if x0 < x1:\n",
    "        sx = 1\n",
    "    else:\n",
    "        sx = -1\n",
    "    dy = -abs(y1 - y0)\n",
    "    if y0 < y1:\n",
    "        sy = 1\n",
    "    else:\n",
    "        sy = -1\n",
    "    err = dx + dy\n",
    "\n",
    "    while True:\n",
    "        bitmap[x0, y0] = 1\n",
    "        if x0 == x1 and y0 == y1:\n",
    "            break\n",
    "        e2 = 2 * err\n",
    "        if (e2 > dy):\n",
    "            err += dy\n",
    "            x0 += sx\n",
    "        if (e2 < dx):\n",
    "            err += dx\n",
    "            y0 += sy\n",
    "\n",
    "def thick_bresenham_line(x0, y0, x1, y1, bitmap, thickness):\n",
    "    # Generate thickening sequence\n",
    "    thick_seq = [1, -1, 2, -2]\n",
    "    \n",
    "    dx =  abs(x1 - x0)\n",
    "    if x0 < x1:\n",
    "        sx = 1\n",
    "    else:\n",
    "        sx = -1\n",
    "    dy = -abs(y1 - y0)\n",
    "    if y0 < y1:\n",
    "        sy = 1\n",
    "    else:\n",
    "        sy = -1\n",
    "    err = dx + dy\n",
    "    \n",
    "    thick_x = 0\n",
    "    thick_y = 0\n",
    "    if dx < -dy:\n",
    "        print(\"thicken along Y-Axis\")\n",
    "        thick_x = 1\n",
    "    else:\n",
    "        print(\"thicken along X-Axis\")\n",
    "        thick_y = 1\n",
    "\n",
    "    while True:\n",
    "        bitmap[x0, y0] = 1\n",
    "        for i in range(thickness):\n",
    "            bitmap[x0+(thick_seq[i]*thick_x), y0+(thick_seq[i]*thick_y)] = 1\n",
    "        if x0 == x1 and y0 == y1:\n",
    "            break\n",
    "        e2 = 2 * err\n",
    "        if (e2 > dy):\n",
    "            err += dy\n",
    "            x0 += sx\n",
    "        if (e2 < dx):\n",
    "            err += dx\n",
    "            y0 += sy"
   ]
  },
  {
   "cell_type": "code",
   "execution_count": null,
   "id": "ddcf2a61",
   "metadata": {},
   "outputs": [],
   "source": [
    "# Create an example bitmap\n",
    "height = 144\n",
    "width = 144\n",
    "bitmap = np.zeros((144, 144)).astype(bool)\n",
    "\n",
    "p1 = np.array([72, 72])\n",
    "p2 = np.array([0, 72])\n",
    "\n",
    "thick_bresenham_line(p1[0], p1[1], p2[0], p2[1], bitmap, 3)\n",
    "\n",
    "plt.figure(figsize=(15, 15))\n",
    "plt.imshow(bitmap)"
   ]
  },
  {
   "cell_type": "code",
   "execution_count": null,
   "id": "e955d79e",
   "metadata": {},
   "outputs": [],
   "source": [
    "# Get line vector\n",
    "v = p2 - p1\n",
    "# Rotate by 45°\n",
    "R = np.array([[np.cos(np.pi/4), -np.sin(np.pi/4)], [np.sin(np.pi/4), np.cos(np.pi/4)]])\n",
    "v_r = np.matmul(R.T, v).astype(int)\n",
    "x_axis = np.array([1, 0])\n",
    "y_axis = np.array([0, 1])"
   ]
  },
  {
   "cell_type": "code",
   "execution_count": null,
   "id": "56e625a4",
   "metadata": {},
   "outputs": [],
   "source": []
  },
  {
   "cell_type": "code",
   "execution_count": null,
   "id": "edcbdd8f",
   "metadata": {},
   "outputs": [],
   "source": []
  },
  {
   "cell_type": "code",
   "execution_count": null,
   "id": "dbbc795f",
   "metadata": {},
   "outputs": [],
   "source": []
  },
  {
   "cell_type": "code",
   "execution_count": null,
   "id": "b2b9b72e",
   "metadata": {},
   "outputs": [],
   "source": []
  }
 ],
 "metadata": {
  "kernelspec": {
   "display_name": "Python 3 (ipykernel)",
   "language": "python",
   "name": "python3"
  },
  "language_info": {
   "codemirror_mode": {
    "name": "ipython",
    "version": 3
   },
   "file_extension": ".py",
   "mimetype": "text/x-python",
   "name": "python",
   "nbconvert_exporter": "python",
   "pygments_lexer": "ipython3",
   "version": "3.11.5"
  }
 },
 "nbformat": 4,
 "nbformat_minor": 5
}
