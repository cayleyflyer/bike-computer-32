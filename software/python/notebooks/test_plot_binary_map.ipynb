{
 "cells": [
  {
   "cell_type": "code",
   "execution_count": null,
   "id": "d89d002f",
   "metadata": {},
   "outputs": [],
   "source": [
    "'''\n",
    "    Notebook to demonstrate how to plot a COMPLETE map that has been exported via the osm2simpletile tool.\n",
    "    WARNING: Do not use with large maps!\n",
    "'''\n",
    "\n",
    "import sys\n",
    "sys.path.append('../src/')\n",
    "import numpy as np\n",
    "import matplotlib.pyplot as plt\n",
    "from utils import *"
   ]
  },
  {
   "cell_type": "code",
   "execution_count": null,
   "id": "869e9cc0",
   "metadata": {},
   "outputs": [],
   "source": [
    "# Path to binary that was exported using osm2simpletile\n",
    "binary_path = \"../../data/bin_maps/dach.bin\"\n",
    "\n",
    "# Read header of map\n",
    "header = read_header(binary_path)\n",
    "# Print some information about the map\n",
    "for key in header.keys():\n",
    "    print(f\"{key}: {header[key]}\")"
   ]
  },
  {
   "cell_type": "code",
   "execution_count": null,
   "id": "5e00e085",
   "metadata": {},
   "outputs": [],
   "source": [
    "# Lower left corner for plotting is the origin of the map\n",
    "map_origin = np.array([[header[\"map_x\"], header[\"map_y\"]]])\n",
    "\n",
    "# Define bounding box for plotting\n",
    "ll = map_origin\n",
    "ur = ll + np.array([[header[\"map_width\"], header[\"map_height\"]]])\n",
    "\n",
    "# Get all tile indices that collide with the bounding box. In this case, its the complete map.\n",
    "tile_idxs = get_colliding_tiles(ll[0], ur[0], header[\"tile_size\"], header[\"n_x_tiles\"], map_origin)\n",
    "\n",
    "# Plot it.\n",
    "plt.figure(figsize=(15, 15))\n",
    "ax = plt.gca()\n",
    "plot_tiles(ax, tile_idxs, header, binary_path)\n",
    "plt.draw()"
   ]
  },
  {
   "cell_type": "code",
   "execution_count": null,
   "id": "99c244fe",
   "metadata": {},
   "outputs": [],
   "source": []
  }
 ],
 "metadata": {
  "kernelspec": {
   "display_name": "Python 3 (ipykernel)",
   "language": "python",
   "name": "python3"
  },
  "language_info": {
   "codemirror_mode": {
    "name": "ipython",
    "version": 3
   },
   "file_extension": ".py",
   "mimetype": "text/x-python",
   "name": "python",
   "nbconvert_exporter": "python",
   "pygments_lexer": "ipython3",
   "version": "3.11.5"
  }
 },
 "nbformat": 4,
 "nbformat_minor": 5
}
